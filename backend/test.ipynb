{
 "cells": [
  {
   "cell_type": "code",
   "execution_count": null,
   "id": "9fcdcc12",
   "metadata": {},
   "outputs": [],
   "source": [
    "from vector_db.pg_vector_db import PGVectorDB\n",
    "\n",
    "t = PGVectorDB('qa_collection')\n",
    "\n"
   ]
  },
  {
   "cell_type": "code",
   "execution_count": null,
   "id": "70e679a7",
   "metadata": {},
   "outputs": [],
   "source": [
    "from text_completion.text_completer import TextCompleter\n",
    "\n",
    "text_c = TextCompleter()\n",
    "\n"
   ]
  },
  {
   "cell_type": "code",
   "execution_count": 3,
   "id": "3b8fbead",
   "metadata": {},
   "outputs": [],
   "source": [
    "from src.qa_system.qa_system import QASystem\n",
    "\n",
    "\n",
    "qa = QASystem(t,text_c)"
   ]
  },
  {
   "cell_type": "code",
   "execution_count": 4,
   "id": "f854fff2",
   "metadata": {},
   "outputs": [
    {
     "data": {
      "text/plain": [
       "{'source': 'local',\n",
       " 'matched_question': 'How do I change my profile information?',\n",
       " 'answer': \"Navigate to your profile page, click on 'Edit Profile', and make the desired changes.\"}"
      ]
     },
     "execution_count": 4,
     "metadata": {},
     "output_type": "execute_result"
    }
   ],
   "source": [
    "qa.answer(\"How to change my profile settings?\")"
   ]
  },
  {
   "cell_type": "code",
   "execution_count": 7,
   "id": "20b05ef7",
   "metadata": {},
   "outputs": [
    {
     "data": {
      "text/plain": [
       "{'source': 'openai_with_local_context',\n",
       " 'matched_question': 'How do I change my profile information?',\n",
       " 'answer': 'To edit your profile:\\n\\n1. Go to your profile page.\\n2. Click or tap \"Edit Profile.\"\\n3. Update fields you want (name, display name, username, bio/about, profile photo, cover/header image, email, phone, location, website, preferences, privacy settings).\\n4. Save or \"Save Changes.\"\\n\\nIf you need help changing a specific field, tell me which one.'}"
      ]
     },
     "execution_count": 7,
     "metadata": {},
     "output_type": "execute_result"
    }
   ],
   "source": [
    "qa.answer(\"I want to change things related to my profile.\")"
   ]
  },
  {
   "cell_type": "code",
   "execution_count": 10,
   "id": "29cf6886",
   "metadata": {},
   "outputs": [
    {
     "data": {
      "text/plain": [
       "{'source': 'openai',\n",
       " 'matched_question': 'How do I change my profile information?',\n",
       " 'answer': 'A personal profile is a short summary (usually 1–4 sentences) that highlights who you are, your key skills or strengths, and what you want to achieve. It’s used on CVs, LinkedIn, portfolios, or bios to quickly introduce yourself and make a strong first impression.'}"
      ]
     },
     "execution_count": 10,
     "metadata": {},
     "output_type": "execute_result"
    }
   ],
   "source": [
    "qa.answer(\"What is a personal profile?\")"
   ]
  }
 ],
 "metadata": {
  "kernelspec": {
   "display_name": "sfaq",
   "language": "python",
   "name": "python3"
  },
  "language_info": {
   "codemirror_mode": {
    "name": "ipython",
    "version": 3
   },
   "file_extension": ".py",
   "mimetype": "text/x-python",
   "name": "python",
   "nbconvert_exporter": "python",
   "pygments_lexer": "ipython3",
   "version": "3.13.7"
  }
 },
 "nbformat": 4,
 "nbformat_minor": 5
}

{
 "cells": [
  {
   "cell_type": "code",
   "execution_count": 1,
   "id": "9fcdcc12",
   "metadata": {},
   "outputs": [],
   "source": [
    "# from src.vector_db.pg_vector_db import PGVectorDB\n",
    "\n",
    "# t = PGVectorDB('qa_collection')\n",
    "# r = t.search('How do I change my profile')\n"
   ]
  },
  {
   "cell_type": "code",
   "execution_count": 1,
   "id": "70e679a7",
   "metadata": {},
   "outputs": [],
   "source": [
    "from src.text_completion.text_completer import TextCompleter\n",
    "\n",
    "text_c = TextCompleter()\n",
    "\n"
   ]
  },
  {
   "cell_type": "code",
   "execution_count": 2,
   "id": "c56923ec",
   "metadata": {},
   "outputs": [],
   "source": [
    "x = text_c.complete('What is programming?')"
   ]
  },
  {
   "cell_type": "code",
   "execution_count": 9,
   "id": "97a3c270",
   "metadata": {},
   "outputs": [
    {
     "name": "stdout",
     "output_type": "stream",
     "text": [
      "Programming is the process of writing instructions (code) that tell a computer what to do. It involves:\n",
      "\n",
      "- Designing a sequence of steps or algorithms to solve a problem.\n",
      "- Expressing those steps in a programming language (e.g., Python, Java, C++).\n",
      "- Testing and debugging the code to ensure it works correctly.\n",
      "- Running and maintaining the program so it continues to perform the intended task.\n",
      "\n",
      "Programming is used to build software, automate tasks, process data, control hardware, and create interactive applications.\n"
     ]
    }
   ],
   "source": [
    "print(x.content[0]['text'])"
   ]
  }
 ],
 "metadata": {
  "kernelspec": {
   "display_name": "sfaq",
   "language": "python",
   "name": "python3"
  },
  "language_info": {
   "codemirror_mode": {
    "name": "ipython",
    "version": 3
   },
   "file_extension": ".py",
   "mimetype": "text/x-python",
   "name": "python",
   "nbconvert_exporter": "python",
   "pygments_lexer": "ipython3",
   "version": "3.13.7"
  }
 },
 "nbformat": 4,
 "nbformat_minor": 5
}
